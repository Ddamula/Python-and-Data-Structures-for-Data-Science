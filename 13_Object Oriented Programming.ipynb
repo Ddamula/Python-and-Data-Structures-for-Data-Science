{
 "cells": [
  {
   "cell_type": "markdown",
   "id": "aed69046",
   "metadata": {},
   "source": [
    "# Object Oriented Programming\n",
    "\n",
    "7 properties - \n",
    "\n",
    "1. Class - \n",
    "            Updated version of structure (struct in C programming)\n",
    "            Collection of variables and methods.\n",
    "            class is a blueprint.\n",
    "2. Object -\n",
    "            run time or real time entity.\n",
    "            hash code - (id)\n",
    "\n",
    "3. Abstraction and encapsulation\n",
    "            Abstraction - showing only essential features without showing any background details.\n",
    "            Encapsulation - wrapping up of data in a single unit.\n",
    "            \n",
    "4. Inheritance\n",
    "            Acquiring properies of one class into another.\n",
    "            code reuse\n",
    "            - single level\n",
    "            - multilevel\n",
    "            - Hierarchical\n",
    "            - Multiple\n",
    "            - Hybrid\n",
    "5. Polymorphism\n",
    "            same name multiple functionalities.\n",
    "            - Method Overloading\n",
    "            - Method Overriding\n",
    "6. Dynamic Memory Allocation\n",
    "            - Run time memory allocation/late binding/dynamic binding\n",
    "7. Message Passing\n",
    "            Communication between objects"
   ]
  },
  {
   "cell_type": "code",
   "execution_count": null,
   "id": "ec2e07ca",
   "metadata": {},
   "outputs": [],
   "source": [
    "c programming\n",
    "\n",
    "int a = 10;  # 2 bytes\n",
    "\n",
    "sturct student{\n",
    "    int rollno;\n",
    "    char name[10];\n",
    "    float per;\n",
    "}\n",
    "\n",
    "struct student s;\n",
    "#          int a;"
   ]
  },
  {
   "cell_type": "code",
   "execution_count": null,
   "id": "e2a6f563",
   "metadata": {},
   "outputs": [],
   "source": [
    "import math"
   ]
  },
  {
   "cell_type": "code",
   "execution_count": null,
   "id": "f78c5ac9",
   "metadata": {},
   "outputs": [],
   "source": [
    "bits>numbers>characters>instrctions>functions>programmes>modules>packages>library>framework"
   ]
  },
  {
   "cell_type": "code",
   "execution_count": null,
   "id": "33b3a366",
   "metadata": {},
   "outputs": [],
   "source": [
    "windows 7\n",
    "\n",
    "windows 11"
   ]
  },
  {
   "cell_type": "code",
   "execution_count": null,
   "id": "0786ce77",
   "metadata": {},
   "outputs": [],
   "source": [
    "add()\n",
    "add(x, y)\n",
    "add(a, b, c)\n",
    "add()"
   ]
  },
  {
   "cell_type": "code",
   "execution_count": 11,
   "id": "35d43336",
   "metadata": {},
   "outputs": [
    {
     "name": "stdout",
     "output_type": "stream",
     "text": [
      "<class 'int'>\n",
      "2075338107472\n",
      "2075338107472\n"
     ]
    }
   ],
   "source": [
    "a = 10\n",
    "\n",
    "print(type(a))\n",
    "\n",
    "print(id(a))\n",
    "\n",
    "print(id(10))"
   ]
  },
  {
   "cell_type": "code",
   "execution_count": 2,
   "id": "a613deb0",
   "metadata": {},
   "outputs": [
    {
     "name": "stdout",
     "output_type": "stream",
     "text": [
      "<class 'int'>\n",
      "2075338107792\n"
     ]
    }
   ],
   "source": [
    "b = 20\n",
    "\n",
    "print(type(b))\n",
    "\n",
    "print(id(b))"
   ]
  },
  {
   "cell_type": "code",
   "execution_count": 3,
   "id": "901d69f9",
   "metadata": {},
   "outputs": [],
   "source": [
    "class Cricket:\n",
    "    \n",
    "    def bat():\n",
    "        print(\"Batting\")\n",
    "    \n"
   ]
  },
  {
   "cell_type": "code",
   "execution_count": 4,
   "id": "a98488a7",
   "metadata": {},
   "outputs": [],
   "source": [
    "c = Cricket()"
   ]
  },
  {
   "cell_type": "code",
   "execution_count": 5,
   "id": "bdc10886",
   "metadata": {},
   "outputs": [
    {
     "ename": "TypeError",
     "evalue": "bat() takes 0 positional arguments but 1 was given",
     "output_type": "error",
     "traceback": [
      "\u001b[1;31m---------------------------------------------------------------------------\u001b[0m",
      "\u001b[1;31mTypeError\u001b[0m                                 Traceback (most recent call last)",
      "Input \u001b[1;32mIn [5]\u001b[0m, in \u001b[0;36m<cell line: 1>\u001b[1;34m()\u001b[0m\n\u001b[1;32m----> 1\u001b[0m \u001b[43mc\u001b[49m\u001b[38;5;241;43m.\u001b[39;49m\u001b[43mbat\u001b[49m\u001b[43m(\u001b[49m\u001b[43m)\u001b[49m\n",
      "\u001b[1;31mTypeError\u001b[0m: bat() takes 0 positional arguments but 1 was given"
     ]
    }
   ],
   "source": [
    "c.bat()"
   ]
  },
  {
   "cell_type": "code",
   "execution_count": null,
   "id": "669999f5",
   "metadata": {},
   "outputs": [],
   "source": [
    "# self -> current object"
   ]
  },
  {
   "cell_type": "code",
   "execution_count": 6,
   "id": "49e7f4da",
   "metadata": {},
   "outputs": [
    {
     "name": "stdout",
     "output_type": "stream",
     "text": [
      "Batting\n"
     ]
    }
   ],
   "source": [
    "class Cricket:\n",
    "    \n",
    "    def bat(self):        # self = c\n",
    "        print(\"Batting\")\n",
    "    \n",
    "\n",
    "c = Cricket()\n",
    "\n",
    "c.bat()\n",
    "\n",
    "f = Cricket()\n",
    "f.bat()"
   ]
  },
  {
   "cell_type": "code",
   "execution_count": 7,
   "id": "51609b05",
   "metadata": {},
   "outputs": [
    {
     "name": "stdout",
     "output_type": "stream",
     "text": [
      "<__main__.Cricket object at 0x000001E338F3B1F0>\n"
     ]
    }
   ],
   "source": [
    "print(c)"
   ]
  },
  {
   "cell_type": "code",
   "execution_count": 8,
   "id": "7b6fd5ee",
   "metadata": {},
   "outputs": [
    {
     "name": "stdout",
     "output_type": "stream",
     "text": [
      "2075424698864\n"
     ]
    }
   ],
   "source": [
    "print(id(c))"
   ]
  },
  {
   "cell_type": "code",
   "execution_count": 9,
   "id": "290d1de1",
   "metadata": {},
   "outputs": [
    {
     "name": "stdout",
     "output_type": "stream",
     "text": [
      "<__main__.Cricket object at 0x000001E33A241B50>\n"
     ]
    }
   ],
   "source": [
    "print(Cricket())"
   ]
  },
  {
   "cell_type": "code",
   "execution_count": null,
   "id": "5366fa1f",
   "metadata": {},
   "outputs": [],
   "source": [
    "t = print()"
   ]
  },
  {
   "cell_type": "code",
   "execution_count": null,
   "id": "cdf7f218",
   "metadata": {},
   "outputs": [],
   "source": [
    "def __main__():\n",
    "    class Cricket:\n",
    "    \n",
    "        def bat(self):        # self = c\n",
    "            print(\"Batting\")\n",
    "\n",
    "\n",
    "        c = Cricket()\n",
    "\n",
    "        c.bat()\n",
    "\n",
    "        f = Cricket()\n",
    "        f.bat()"
   ]
  },
  {
   "cell_type": "markdown",
   "id": "afdc7a8d",
   "metadata": {},
   "source": [
    "### Anology"
   ]
  },
  {
   "cell_type": "code",
   "execution_count": null,
   "id": "6a756b41",
   "metadata": {},
   "outputs": [],
   "source": []
  }
 ],
 "metadata": {
  "kernelspec": {
   "display_name": "Python 3 (ipykernel)",
   "language": "python",
   "name": "python3"
  },
  "language_info": {
   "codemirror_mode": {
    "name": "ipython",
    "version": 3
   },
   "file_extension": ".py",
   "mimetype": "text/x-python",
   "name": "python",
   "nbconvert_exporter": "python",
   "pygments_lexer": "ipython3",
   "version": "3.9.12"
  }
 },
 "nbformat": 4,
 "nbformat_minor": 5
}
